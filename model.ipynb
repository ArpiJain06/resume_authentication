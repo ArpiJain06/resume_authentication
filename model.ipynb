{
  "nbformat": 4,
  "nbformat_minor": 0,
  "metadata": {
    "colab": {
      "provenance": []
    },
    "kernelspec": {
      "name": "python3",
      "display_name": "Python 3"
    },
    "language_info": {
      "name": "python"
    }
  },
  "cells": [
    {
      "cell_type": "code",
      "source": [
        "import os\n",
        "import cv2\n",
        "import numpy as np\n",
        "import keras\n",
        "from sklearn.model_selection import train_test_split\n",
        "from sklearn.ensemble import AdaBoostClassifier\n",
        "from sklearn.tree import DecisionTreeClassifier\n",
        "from sklearn.metrics import accuracy_score\n",
        "from keras.models import Sequential\n",
        "from keras.layers import Conv2D, MaxPooling2D, Flatten, Dense, Dropout\n",
        "from keras.utils import to_categorical\n",
        "from keras.preprocessing.image import ImageDataGenerator"
      ],
      "metadata": {
        "id": "wsv33dss2b74"
      },
      "execution_count": 12,
      "outputs": []
    },
    {
      "cell_type": "code",
      "source": [
        "# mount google drive\n",
        "from google.colab import drive\n",
        "drive.mount('/content/drive')"
      ],
      "metadata": {
        "colab": {
          "base_uri": "https://localhost:8080/"
        },
        "id": "MhEPEL7C6gEn",
        "outputId": "8fa1705f-8d33-4dcc-9253-2764fd958903"
      },
      "execution_count": 13,
      "outputs": [
        {
          "output_type": "stream",
          "name": "stdout",
          "text": [
            "Drive already mounted at /content/drive; to attempt to forcibly remount, call drive.mount(\"/content/drive\", force_remount=True).\n"
          ]
        }
      ]
    },
    {
      "cell_type": "code",
      "source": [
        "resume_folder = '/content/drive/MyDrive/resumes'\n",
        "non_resume_folder = '/content/drive/MyDrive/not_resumes'"
      ],
      "metadata": {
        "id": "0GMplsFN50zq"
      },
      "execution_count": 14,
      "outputs": []
    },
    {
      "cell_type": "code",
      "source": [
        "# Load and Explore the Data\n",
        "def load_and_preprocess_data(data_dir, label, augmentation):\n",
        "    data = []\n",
        "    labels = []\n",
        "\n",
        "    for filename in os.listdir(data_dir):\n",
        "        img_path = os.path.join(data_dir, filename)\n",
        "        img = cv2.imread(img_path)\n",
        "        img = cv2.resize(img, (128, 128))\n",
        "        img = img / 255.0\n",
        "        data.append(img)\n",
        "        labels.append(label)\n",
        "\n",
        "    data = np.array(data)\n",
        "    labels = np.array(labels)\n",
        "\n",
        "    if augmentation:\n",
        "        datagen = ImageDataGenerator(\n",
        "            rotation_range=20,\n",
        "            width_shift_range=0.2,\n",
        "            height_shift_range=0.2,\n",
        "            zoom_range=0.2,\n",
        "            shear_range=0.2,\n",
        "            horizontal_flip=True,\n",
        "            vertical_flip=True\n",
        "        )\n",
        "        datagen.fit(data)\n",
        "        augmented_data = datagen.flow(data, labels, batch_size=len(data), shuffle=False).next()\n",
        "        data, labels = augmented_data[0], labels\n",
        "\n",
        "    return data, labels"
      ],
      "metadata": {
        "id": "uFlq-ztV2cA1"
      },
      "execution_count": 15,
      "outputs": []
    },
    {
      "cell_type": "code",
      "source": [
        "# Load and preprocess data from the two folders\n",
        "resume_data_aug, resume_labels_aug = load_and_preprocess_data(resume_folder, 1, True)\n",
        "non_resume_data_aug, non_resume_labels_aug = load_and_preprocess_data(non_resume_folder, 0, True)\n",
        "\n",
        "resume_data, resume_labels = load_and_preprocess_data(resume_folder, 1, False)\n",
        "non_resume_data, non_resume_labels = load_and_preprocess_data(non_resume_folder, 0, False)"
      ],
      "metadata": {
        "id": "VpOcE4wr2cEp"
      },
      "execution_count": 16,
      "outputs": []
    },
    {
      "cell_type": "code",
      "source": [
        "# Combine data and labels\n",
        "X_train_aug = np.concatenate((resume_data_aug, non_resume_data_aug), axis=0)\n",
        "y_train_aug = np.concatenate((resume_labels_aug, non_resume_labels_aug), axis=0)\n",
        "\n",
        "X_train = np.concatenate((resume_data, non_resume_data), axis=0)\n",
        "y_train = np.concatenate((resume_labels, non_resume_labels), axis=0)"
      ],
      "metadata": {
        "id": "DFk9BUKm5YU_"
      },
      "execution_count": 17,
      "outputs": []
    },
    {
      "cell_type": "code",
      "source": [
        "# Shuffle the data\n",
        "augmented_data = list(zip(X_train_aug, y_train_aug))\n",
        "np.random.shuffle(augmented_data)\n",
        "X_train_aug, y_train_aug = zip(*augmented_data)\n",
        "X_train_aug = np.array(X_train_aug)\n",
        "y_train_aug = np.array(y_train_aug)"
      ],
      "metadata": {
        "id": "1RGwPvZe5Y04"
      },
      "execution_count": 18,
      "outputs": []
    },
    {
      "cell_type": "code",
      "source": [
        "# Convert labels to one-hot encoding\n",
        "y_train_aug = to_categorical(y_train_aug, num_classes=2)\n",
        "y_train = to_categorical(y_train, num_classes=2)"
      ],
      "metadata": {
        "id": "0YRCKQsW5Y4b"
      },
      "execution_count": 19,
      "outputs": []
    },
    {
      "cell_type": "code",
      "source": [
        "# Split the data into training and testing sets\n",
        "X_train_split, X_test_split, y_train_split, y_test_split = train_test_split(\n",
        "    X_train_aug, y_train_aug, test_size=0.3, random_state=42\n",
        ")"
      ],
      "metadata": {
        "id": "4rURQUTH5Y-j"
      },
      "execution_count": 20,
      "outputs": []
    },
    {
      "cell_type": "code",
      "source": [
        "# Build a basic CNN model\n",
        "model = keras.Sequential()\n",
        "model.add(Conv2D(32, (3, 3), activation='relu', input_shape=(128, 128, 3)))\n",
        "model.add(MaxPooling2D((2, 2)))\n",
        "model.add(Conv2D(64, (3, 3), activation='relu'))\n",
        "model.add(MaxPooling2D((2, 2)))\n",
        "model.add(Conv2D(128, (3, 3), activation='relu'))\n",
        "model.add(MaxPooling2D((2, 2)))\n",
        "model.add(Flatten())\n",
        "model.add(Dropout(0.2))\n",
        "model.add(Dense(256, activation='relu'))\n",
        "model.add(Dropout(0.8))\n",
        "model.add(Dense(2, activation='softmax'))\n",
        "\n",
        "# Compile the model\n",
        "model.compile(optimizer='adam', loss='categorical_crossentropy', metrics=['accuracy'])\n",
        "\n",
        "# Fit the CNN model\n",
        "model.fit(X_train_split, y_train_split, epochs=10, validation_data=(X_test_split, y_test_split))\n",
        "\n",
        "# Use CNN predictions as weak learner for AdaBoost\n",
        "cnn_predictions = model.predict(X_train_split)\n",
        "cnn_predictions = np.argmax(cnn_predictions, axis=1)\n",
        "\n"
      ],
      "metadata": {
        "colab": {
          "base_uri": "https://localhost:8080/"
        },
        "id": "v-lDOQxC6zDW",
        "outputId": "90f94e3a-9761-40dd-9a57-654b9ab6f7e0"
      },
      "execution_count": 21,
      "outputs": [
        {
          "output_type": "stream",
          "name": "stdout",
          "text": [
            "Epoch 1/10\n",
            "3/3 [==============================] - 6s 2s/step - loss: 1.7719 - accuracy: 0.4429 - val_loss: 1.0862 - val_accuracy: 0.5333\n",
            "Epoch 2/10\n",
            "3/3 [==============================] - 6s 2s/step - loss: 1.1277 - accuracy: 0.4857 - val_loss: 0.7007 - val_accuracy: 0.4667\n",
            "Epoch 3/10\n",
            "3/3 [==============================] - 4s 1s/step - loss: 0.6651 - accuracy: 0.5857 - val_loss: 0.7041 - val_accuracy: 0.4667\n",
            "Epoch 4/10\n",
            "3/3 [==============================] - 7s 2s/step - loss: 0.7113 - accuracy: 0.5286 - val_loss: 0.6979 - val_accuracy: 0.4667\n",
            "Epoch 5/10\n",
            "3/3 [==============================] - 8s 2s/step - loss: 0.6843 - accuracy: 0.5429 - val_loss: 0.6991 - val_accuracy: 0.4667\n",
            "Epoch 6/10\n",
            "3/3 [==============================] - 5s 1s/step - loss: 0.6920 - accuracy: 0.5571 - val_loss: 0.6944 - val_accuracy: 0.5333\n",
            "Epoch 7/10\n",
            "3/3 [==============================] - 5s 1s/step - loss: 0.6786 - accuracy: 0.5571 - val_loss: 0.7051 - val_accuracy: 0.4667\n",
            "Epoch 8/10\n",
            "3/3 [==============================] - 4s 1s/step - loss: 0.6633 - accuracy: 0.5429 - val_loss: 0.7110 - val_accuracy: 0.7333\n",
            "Epoch 9/10\n",
            "3/3 [==============================] - 3s 963ms/step - loss: 0.6257 - accuracy: 0.6714 - val_loss: 0.7950 - val_accuracy: 0.4667\n",
            "Epoch 10/10\n",
            "3/3 [==============================] - 2s 686ms/step - loss: 0.6075 - accuracy: 0.6000 - val_loss: 0.7818 - val_accuracy: 0.5667\n",
            "3/3 [==============================] - 1s 152ms/step\n"
          ]
        }
      ]
    },
    {
      "cell_type": "code",
      "source": [
        "# Build AdaBoost model with DecisionTree as base estimator\n",
        "base_estimator = DecisionTreeClassifier(max_depth=1)\n",
        "adaboost_model = AdaBoostClassifier(base_estimator=base_estimator, n_estimators=50, random_state=42)\n",
        "\n",
        "# Train AdaBoost model\n",
        "adaboost_model.fit(X_train_split.reshape(X_train_split.shape[0], -1), cnn_predictions)\n",
        "\n",
        "# Make predictions on the test set\n",
        "cnn_test_predictions = model.predict(X_test_split)\n",
        "cnn_test_predictions = np.argmax(cnn_test_predictions, axis=1)\n",
        "adaboost_predictions = adaboost_model.predict(X_test_split.reshape(X_test_split.shape[0], -1))\n",
        "\n",
        "# Combine CNN and AdaBoost predictions\n",
        "ensemble_predictions = np.vstack((cnn_test_predictions, adaboost_predictions)).T\n",
        "\n",
        "# Use majority voting for final predictions\n",
        "final_predictions = np.apply_along_axis(lambda x: np.bincount(x).argmax(), axis=1, arr=ensemble_predictions)\n",
        "\n",
        "# Evaluate the performance of the ensemble model\n",
        "ensemble_accuracy = accuracy_score(y_test_split.argmax(axis=1), final_predictions)\n",
        "print(f'Ensemble Model Accuracy: {ensemble_accuracy * 100:.2f}%')\n"
      ],
      "metadata": {
        "colab": {
          "base_uri": "https://localhost:8080/"
        },
        "id": "3Lj-Zqz16zXZ",
        "outputId": "b2b9a241-eddc-4da3-ee96-4de21ea73771"
      },
      "execution_count": 22,
      "outputs": [
        {
          "output_type": "stream",
          "name": "stderr",
          "text": [
            "/usr/local/lib/python3.10/dist-packages/sklearn/ensemble/_base.py:166: FutureWarning: `base_estimator` was renamed to `estimator` in version 1.2 and will be removed in 1.4.\n",
            "  warnings.warn(\n"
          ]
        },
        {
          "output_type": "stream",
          "name": "stdout",
          "text": [
            "1/1 [==============================] - 0s 385ms/step\n",
            "Ensemble Model Accuracy: 56.67%\n"
          ]
        }
      ]
    }
  ]
}