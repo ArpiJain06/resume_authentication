{
  "nbformat": 4,
  "nbformat_minor": 0,
  "metadata": {
    "colab": {
      "provenance": []
    },
    "kernelspec": {
      "name": "python3",
      "display_name": "Python 3"
    },
    "language_info": {
      "name": "python"
    }
  },
  "cells": [
    {
      "cell_type": "code",
      "source": [
        "import os\n",
        "import cv2\n",
        "import numpy as np\n",
        "import keras\n",
        "from sklearn.model_selection import train_test_split\n",
        "from sklearn.metrics import accuracy_score\n",
        "from keras.models import Sequential, Model\n",
        "from keras.layers import Conv2D, MaxPooling2D, Flatten, Dense, Dropout, GlobalAveragePooling2D, Dense\n",
        "from keras.utils import to_categorical\n",
        "from keras.preprocessing.image import ImageDataGenerator\n",
        "from keras.applications import MobileNetV2\n",
        "from keras.preprocessing import image\n",
        "from keras.optimizers import Adam\n",
        "from keras import Input"
      ],
      "metadata": {
        "id": "wsv33dss2b74"
      },
      "execution_count": 44,
      "outputs": []
    },
    {
      "cell_type": "code",
      "source": [
        "# mount google drive\n",
        "from google.colab import drive\n",
        "drive.mount('/content/drive')"
      ],
      "metadata": {
        "colab": {
          "base_uri": "https://localhost:8080/"
        },
        "id": "MhEPEL7C6gEn",
        "outputId": "cacbb176-0413-4a24-8b06-33751102b5a2"
      },
      "execution_count": 45,
      "outputs": [
        {
          "output_type": "stream",
          "name": "stdout",
          "text": [
            "Drive already mounted at /content/drive; to attempt to forcibly remount, call drive.mount(\"/content/drive\", force_remount=True).\n"
          ]
        }
      ]
    },
    {
      "cell_type": "code",
      "source": [
        "resume_folder = '/content/drive/MyDrive/resumes'\n",
        "non_resume_folder = '/content/drive/MyDrive/not_resumes'"
      ],
      "metadata": {
        "id": "0GMplsFN50zq"
      },
      "execution_count": 46,
      "outputs": []
    },
    {
      "cell_type": "code",
      "source": [
        "# Load and Explore the Data\n",
        "def load_and_preprocess_data(data_dir, label, augmentation):\n",
        "    data = []\n",
        "    labels = []\n",
        "    for filename in os.listdir(data_dir):\n",
        "        img_path = os.path.join(data_dir, filename)\n",
        "\n",
        "        # Check if the file exists and is a valid image\n",
        "        if os.path.isfile(img_path):\n",
        "            img = cv2.imread(img_path)\n",
        "\n",
        "            # Check if the image is successfully loaded\n",
        "            if img is not None:\n",
        "                img = cv2.resize(img, (128, 128))\n",
        "                img = img / 255.0\n",
        "                data.append(img)\n",
        "                labels.append(label)\n",
        "\n",
        "    data = np.array(data)\n",
        "    labels = np.array(labels)\n",
        "\n",
        "    if augmentation:\n",
        "        datagen = ImageDataGenerator(\n",
        "            rotation_range=20,\n",
        "            width_shift_range=0.2,\n",
        "            height_shift_range=0.2,\n",
        "            zoom_range=0.2,\n",
        "            shear_range=0.2,\n",
        "            horizontal_flip=True,\n",
        "            vertical_flip=True\n",
        "        )\n",
        "        datagen.fit(data)\n",
        "        augmented_data = datagen.flow(data, labels, batch_size=len(data), shuffle=False).next()\n",
        "        data, labels = augmented_data[0], labels\n",
        "\n",
        "    return data, labels"
      ],
      "metadata": {
        "id": "uFlq-ztV2cA1"
      },
      "execution_count": 47,
      "outputs": []
    },
    {
      "cell_type": "code",
      "source": [
        "# Load and preprocess data from the two folders\n",
        "resume_data_aug, resume_labels_aug = load_and_preprocess_data(resume_folder, 1, True)\n",
        "non_resume_data_aug, non_resume_labels_aug = load_and_preprocess_data(non_resume_folder, 0, True)\n",
        "\n",
        "resume_data, resume_labels = load_and_preprocess_data(resume_folder, 1, False)\n",
        "non_resume_data, non_resume_labels = load_and_preprocess_data(non_resume_folder, 0, False)"
      ],
      "metadata": {
        "id": "VpOcE4wr2cEp"
      },
      "execution_count": 48,
      "outputs": []
    },
    {
      "cell_type": "code",
      "source": [
        "# Combine data and labels\n",
        "X_train_aug = np.concatenate((resume_data_aug, non_resume_data_aug), axis=0)\n",
        "y_train_aug = np.concatenate((resume_labels_aug, non_resume_labels_aug), axis=0)\n",
        "\n",
        "X_train = np.concatenate((resume_data, non_resume_data), axis=0)\n",
        "y_train = np.concatenate((resume_labels, non_resume_labels), axis=0)"
      ],
      "metadata": {
        "id": "DFk9BUKm5YU_"
      },
      "execution_count": 49,
      "outputs": []
    },
    {
      "cell_type": "code",
      "source": [
        "# Shuffle the data\n",
        "augmented_data = list(zip(X_train_aug, y_train_aug))\n",
        "np.random.shuffle(augmented_data)\n",
        "X_train_aug, y_train_aug = zip(*augmented_data)\n",
        "X_train_aug = np.array(X_train_aug)\n",
        "y_train_aug = np.array(y_train_aug)"
      ],
      "metadata": {
        "id": "1RGwPvZe5Y04"
      },
      "execution_count": 50,
      "outputs": []
    },
    {
      "cell_type": "code",
      "source": [
        "# Convert labels to one-hot encoding\n",
        "y_train_aug = np.array(y_train_aug)  # Ensure y_train_aug is a NumPy array\n",
        "y_train_aug = y_train_aug.reshape(-1, 1)  # Reshape to a single column\n",
        "y_train = np.array(y_train)  # Ensure y_train is a NumPy array\n",
        "y_train = y_train.reshape(-1, 1)  # Reshape to a single column"
      ],
      "metadata": {
        "id": "L4oK_xGBxIba"
      },
      "execution_count": 51,
      "outputs": []
    },
    {
      "cell_type": "code",
      "source": [
        "# Split the data into training and testing sets\n",
        "X_train_split, X_test_split, y_train_split, y_test_split = train_test_split(\n",
        "    X_train_aug, y_train_aug, test_size=0.3, random_state=42\n",
        ")"
      ],
      "metadata": {
        "id": "E8xzxKsagmXN"
      },
      "execution_count": 52,
      "outputs": []
    },
    {
      "cell_type": "code",
      "source": [
        "base_model = MobileNetV2(weights='imagenet', include_top=False, input_tensor=Input(shape=(128, 128, 3)))\n",
        "\n",
        "# Freeze the convolutional layers\n",
        "for layer in base_model.layers:\n",
        "    layer.trainable = False\n",
        "\n",
        "# Add custom classification layers\n",
        "x = GlobalAveragePooling2D()(base_model.output)\n",
        "x = Dense(256, activation='relu')(x)\n",
        "x = Dense(1, activation='sigmoid')(x)"
      ],
      "metadata": {
        "colab": {
          "base_uri": "https://localhost:8080/"
        },
        "id": "IwtH5RsSgmaa",
        "outputId": "c595e72c-a9a8-4861-f87b-2ea8ea2d10ae"
      },
      "execution_count": 53,
      "outputs": [
        {
          "output_type": "stream",
          "name": "stderr",
          "text": [
            "WARNING:tensorflow:`input_shape` is undefined or non-square, or `rows` is not in [96, 128, 160, 192, 224]. Weights for input shape (224, 224) will be loaded as the default.\n"
          ]
        }
      ]
    },
    {
      "cell_type": "code",
      "source": [
        "# Create the final model\n",
        "model = Model(inputs=base_model.input, outputs=x)\n",
        "\n",
        "# Compile the model\n",
        "model.compile(optimizer=Adam(lr=0.001), loss='binary_crossentropy', metrics=['accuracy'])\n",
        "\n",
        "# Display the model summary\n",
        "# model.summary()"
      ],
      "metadata": {
        "colab": {
          "base_uri": "https://localhost:8080/"
        },
        "id": "nzY6lfYMgmdP",
        "outputId": "653c099b-eff3-4555-f041-667b79c83527"
      },
      "execution_count": 54,
      "outputs": [
        {
          "output_type": "stream",
          "name": "stderr",
          "text": [
            "WARNING:absl:`lr` is deprecated in Keras optimizer, please use `learning_rate` or use the legacy optimizer, e.g.,tf.keras.optimizers.legacy.Adam.\n"
          ]
        }
      ]
    },
    {
      "cell_type": "code",
      "source": [
        "# Train the model\n",
        "epochs = 10\n",
        "batch_size = 32\n",
        "\n",
        "history = model.fit(X_train_split, y_train_split, batch_size=batch_size, epochs=epochs, validation_data=(X_test_split, y_test_split))\n",
        "\n",
        "# Evaluate the model on the test set\n",
        "test_loss, test_accuracy = model.evaluate(X_test_split, y_test_split, batch_size=batch_size)\n",
        "print(f\"Test Loss: {test_loss:.4f}\")\n",
        "print(f\"Test Accuracy: {test_accuracy * 100:.2f}%\")"
      ],
      "metadata": {
        "colab": {
          "base_uri": "https://localhost:8080/"
        },
        "id": "XsPmw2WRgmgy",
        "outputId": "0863929f-a208-4190-c649-72e317c94387"
      },
      "execution_count": 55,
      "outputs": [
        {
          "output_type": "stream",
          "name": "stdout",
          "text": [
            "Epoch 1/10\n",
            "5/5 [==============================] - 8s 926ms/step - loss: 0.4892 - accuracy: 0.7857 - val_loss: 0.3260 - val_accuracy: 0.8182\n",
            "Epoch 2/10\n",
            "5/5 [==============================] - 4s 850ms/step - loss: 0.3367 - accuracy: 0.8636 - val_loss: 0.2367 - val_accuracy: 0.8939\n",
            "Epoch 3/10\n",
            "5/5 [==============================] - 3s 709ms/step - loss: 0.1616 - accuracy: 0.9416 - val_loss: 0.2309 - val_accuracy: 0.9242\n",
            "Epoch 4/10\n",
            "5/5 [==============================] - 2s 486ms/step - loss: 0.0985 - accuracy: 0.9740 - val_loss: 0.1832 - val_accuracy: 0.9242\n",
            "Epoch 5/10\n",
            "5/5 [==============================] - 2s 503ms/step - loss: 0.0630 - accuracy: 0.9805 - val_loss: 0.2094 - val_accuracy: 0.9242\n",
            "Epoch 6/10\n",
            "5/5 [==============================] - 3s 644ms/step - loss: 0.0498 - accuracy: 0.9935 - val_loss: 0.2142 - val_accuracy: 0.9091\n",
            "Epoch 7/10\n",
            "5/5 [==============================] - 4s 786ms/step - loss: 0.0329 - accuracy: 1.0000 - val_loss: 0.2032 - val_accuracy: 0.9242\n",
            "Epoch 8/10\n",
            "5/5 [==============================] - 4s 829ms/step - loss: 0.0277 - accuracy: 1.0000 - val_loss: 0.2114 - val_accuracy: 0.9091\n",
            "Epoch 9/10\n",
            "5/5 [==============================] - 2s 470ms/step - loss: 0.0193 - accuracy: 1.0000 - val_loss: 0.2175 - val_accuracy: 0.9091\n",
            "Epoch 10/10\n",
            "5/5 [==============================] - 2s 434ms/step - loss: 0.0148 - accuracy: 1.0000 - val_loss: 0.2158 - val_accuracy: 0.9091\n",
            "3/3 [==============================] - 1s 158ms/step - loss: 0.2158 - accuracy: 0.9091\n",
            "Test Loss: 0.2158\n",
            "Test Accuracy: 90.91%\n"
          ]
        }
      ]
    }
  ]
}